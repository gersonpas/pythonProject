{
  "nbformat": 4,
  "nbformat_minor": 0,
  "metadata": {
    "colab": {
      "name": "ManipulandoCaracter.ipynb",
      "provenance": [],
      "collapsed_sections": [],
      "include_colab_link": true
    },
    "kernelspec": {
      "name": "python3",
      "display_name": "Python 3"
    }
  },
  "cells": [
    {
      "cell_type": "markdown",
      "metadata": {
        "id": "view-in-github",
        "colab_type": "text"
      },
      "source": [
        "<a href=\"https://colab.research.google.com/github/gersonpas/pythonProject/blob/master/ManipulandoCaracter.ipynb\" target=\"_parent\"><img src=\"https://colab.research.google.com/assets/colab-badge.svg\" alt=\"Open In Colab\"/></a>"
      ]
    },
    {
      "cell_type": "markdown",
      "metadata": {
        "id": "I9-yOgczBnBf"
      },
      "source": [
        "Aula sobre condicionais if else.\r\n",
        "\r\n"
      ]
    },
    {
      "cell_type": "code",
      "metadata": {
        "id": "B96STfzYbtT9"
      },
      "source": [
        "Time = 'Day'\r\n",
        "Sleepy = False\r\n",
        "Pijamas ='Off'\r\n",
        "if Time == 'Night' and Sleepy == True:\r\n",
        "  Pijamas = 'On'\r\n",
        "print(Pijamas)\r\n"
      ],
      "execution_count": null,
      "outputs": []
    },
    {
      "cell_type": "markdown",
      "metadata": {
        "id": "4rs7-roF_Y8C"
      },
      "source": [
        "\r\n",
        "Desafio 22 - Curso em Vídeo"
      ]
    },
    {
      "cell_type": "markdown",
      "metadata": {
        "id": "GtGInO7Bj5i1"
      },
      "source": [
        "HOMEWORK 03 - PIRPLE"
      ]
    },
    {
      "cell_type": "code",
      "metadata": {
        "id": "YiHexyAug622",
        "colab": {
          "base_uri": "https://localhost:8080/"
        },
        "outputId": "65ead65f-a88b-4190-c4b1-b049cbbea347"
      },
      "source": [
        "a = 'ARTE'\r\n",
        "b = 'VIDRO'\r\n",
        "c = 'MOÇA'\r\n",
        "tst = False\r\n",
        "if a == b:\r\n",
        "    print('a is equal b')\r\n",
        "    tst = True\r\n",
        "if b == c:\r\n",
        "    print('b is equal c')\r\n",
        "    tst = True\r\n",
        "if a == c:\r\n",
        "    print('a is equal c')\r\n",
        "    tst = True\r\n",
        "else:\r\n",
        "  if tst == False:\r\n",
        "    print(\"\\033[1;33;42mNone of then is equal\\033[m\")\r\n",
        "    print(tst)"
      ],
      "execution_count": 65,
      "outputs": [
        {
          "output_type": "stream",
          "text": [
            "\u001b[1;33;42mNone of then is equal\u001b[m\n",
            "False\n"
          ],
          "name": "stdout"
        }
      ]
    },
    {
      "cell_type": "markdown",
      "metadata": {
        "id": "Ck9Xjs_tPnF7"
      },
      "source": [
        ""
      ]
    },
    {
      "cell_type": "code",
      "metadata": {
        "id": "l4QoDdDlwKIS"
      },
      "source": [
        "a = 'b'\r\n",
        "if False and True:\r\n",
        "  a = \"a\"\r\n",
        "print(a*3)\r\n"
      ],
      "execution_count": null,
      "outputs": []
    },
    {
      "cell_type": "markdown",
      "metadata": {
        "id": "a-hJ1fUgPp2I"
      },
      "source": [
        "LOTERIAS CEF"
      ]
    },
    {
      "cell_type": "markdown",
      "metadata": {
        "id": "AOYgDznIWVNd"
      },
      "source": [
        ""
      ]
    },
    {
      "cell_type": "code",
      "metadata": {
        "id": "KGjO0a2hWUZk"
      },
      "source": [
        "from random import randint, sample\r\n",
        "import time\r\n",
        "print('\\033[0;33m{:=^44}'.format('\\033[0;33m LOTERIAS '))\r\n",
        "print(''' \r\n",
        "[1] = QUINA\r\n",
        "[2] = MEGA SENA\r\n",
        "[3] = DUPLA SENA\r\n",
        "[4] = LOTOFÁCIL\r\n",
        "[5] = lOTOMANIA\r\n",
        "''')\r\n",
        "loto = int(input('Escolha sua loteria: '))\r\n",
        "while loto > 5 or loto < 1:\r\n",
        "  loto = int(input('\\033[0;34mEntre com uma opção válida: '))\r\n",
        "if loto == 1:\r\n",
        "  opção, init, fim, qdezInit, qdezFim = ' QUINA', 0, 80, 5, 15\r\n",
        "elif loto == 2:\r\n",
        "    opção, init, fim, qdezInit, qdezFim  = 'MEGA SENA', 1, 60, 6, 15 \r\n",
        "elif loto == 3:\r\n",
        "    opção, init, fim, qdezInit, qdezFim = 'DUPLA SENA', 1, 50, 6, 15\r\n",
        "elif loto == 4:\r\n",
        "    opção, init, fim, qdezInit, qdezFim = 'LOTOFÁCIL', 1, 25, 15, 18\r\n",
        "elif loto == 5:\r\n",
        "    opção, init, fim, qdezInit, qdezFim  = 'lOTOMANIA', 0, 99, 50, 50\r\n",
        "\r\n",
        "print('Você escolheu {}, Ótima escolha!'.format(opção))\r\n",
        "print('\\033[0;33mEscolha um jogo entre {} e {} Dezenas\\033[0;33m'.format(qdezInit, qdezFim))\r\n",
        "qdezenas = int(input('Faça sua escolha: '))\r\n",
        "while qdezenas < qdezInit or qdezenas > qdezFim:\r\n",
        "    qdezenas = int(input('Entre com uma opção valida: '))\r\n",
        "print('-='*27)\r\n",
        "print('Muito bem! Você escolheu a {} com {} Dezenas!'.format(opção, qdezenas))\r\n",
        "print('-='*27)\r\n",
        "print('Sorteando os Números...')\r\n",
        "time.sleep(2)\r\n",
        "dezenas = sorted(sample(range(init, fim),qdezenas))\r\n",
        "print('\\033[0;34mAs {} Dezenas Sorteadas foram: {}'.format(qdezenas ,dezenas))"
      ],
      "execution_count": null,
      "outputs": []
    }
  ]
}