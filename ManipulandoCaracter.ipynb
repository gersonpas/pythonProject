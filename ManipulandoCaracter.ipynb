{
  "nbformat": 4,
  "nbformat_minor": 0,
  "metadata": {
    "colab": {
      "name": "ManipulandoCaracter.ipynb",
      "provenance": [],
      "collapsed_sections": [],
      "include_colab_link": true
    },
    "kernelspec": {
      "name": "python3",
      "display_name": "Python 3"
    }
  },
  "cells": [
    {
      "cell_type": "markdown",
      "metadata": {
        "id": "view-in-github",
        "colab_type": "text"
      },
      "source": [
        "<a href=\"https://colab.research.google.com/github/gersonpas/pythonProject/blob/master/ManipulandoCaracter.ipynb\" target=\"_parent\"><img src=\"https://colab.research.google.com/assets/colab-badge.svg\" alt=\"Open In Colab\"/></a>"
      ]
    },
    {
      "cell_type": "markdown",
      "metadata": {
        "id": "4rs7-roF_Y8C"
      },
      "source": [
        "\r\n",
        "Desafio 22 - Curso em Vídeo"
      ]
    },
    {
      "cell_type": "code",
      "metadata": {
        "id": "bhbNQtZjlz2x"
      },
      "source": [
        "frase = 'Curso em Vídeo Python Otorinolaringologista'\r\n",
        "print(type(frase))\r\n",
        "print(frase[15:]) \r\n",
        "print(len(frase))\r\n",
        "frase.count('o')\r\n",
        "'Curso' in(frase)\r\n",
        "print(frase.replace('Python','Android'))  # substitui Python por Android.\r\n",
        "print(frase)\r\n",
        "print(frase.upper())\r\n",
        "divido = frase.split() #fatia a frase considerando os espaços.\r\n",
        "print(divido[0])  #mostra a palavra zero. \"Curso\"\r\n",
        "print(divido[2])  #mostra a palavra dois. \"Vídeo\"\r\n",
        "print(type(divido))\r\n",
        "num = 1258.25\r\n",
        "type(num)\r\n",
        "print(divido[2][:3])\r\n",
        "print('Curso' in frase)\r\n",
        "print(frase.find('Python'))\r\n",
        "print(frase.lower().find('python'))\r\n",
        "len(frase)\r\n",
        "print(len(divido[4])) #mostra o tamanho da  palavra 4.\r\n",
        "frase2 = '  Aprenda Python Agora   '  # frase com espaços no início e no fim.\r\n",
        "print(frase2)\r\n",
        "len(frase2)   # A frase dois tem 25 caracteres contando os espaços.\r\n",
        "ret1 = frase2.strip() # Esta função corta os espaços no início e no fim frase.\r\n",
        "print(ret1)\r\n",
        "ret2 = frase2.rstrip() # Esta função corta os espaços do fim da frase.\r\n",
        "print(ret2)\r\n",
        "ret3 = frase2.lstrip() # Esta função corta os espaços no início da frase."
      ],
      "execution_count": null,
      "outputs": []
    },
    {
      "cell_type": "markdown",
      "metadata": {
        "id": "58E3UzBzE5PK"
      },
      "source": [
        "# Nova seção"
      ]
    },
    {
      "cell_type": "markdown",
      "metadata": {
        "id": "I9-yOgczBnBf"
      },
      "source": [
        "Aula sobre condicionais if else.\r\n",
        "\r\n"
      ]
    },
    {
      "cell_type": "code",
      "metadata": {
        "id": "B96STfzYbtT9"
      },
      "source": [
        "Time = 'Day'\r\n",
        "Sleepy = False\r\n",
        "Pijamas ='Off'\r\n",
        "if Time == 'Night' and Sleepy == True:\r\n",
        "  Pijamas = 'On'\r\n",
        "print(Pijamas)\r\n"
      ],
      "execution_count": null,
      "outputs": []
    },
    {
      "cell_type": "markdown",
      "metadata": {
        "id": "GtGInO7Bj5i1"
      },
      "source": [
        "HOMEWORK 03 - PIRPLE"
      ]
    },
    {
      "cell_type": "code",
      "metadata": {
        "id": "YiHexyAug622"
      },
      "source": [
        "a = 'PERA'\r\n",
        "b = 'MOÇA'\r\n",
        "c = 'ARTE'\r\n",
        "tst = False\r\n",
        "if a == b:\r\n",
        "    print('a is equal b')\r\n",
        "    tst = True\r\n",
        "if b == c:\r\n",
        "    print('b is equal c')\r\n",
        "    tst = True\r\n",
        "if a == c:\r\n",
        "    print('a is equal c')\r\n",
        "    tst = True\r\n",
        "else:\r\n",
        "  if tst == False:\r\n",
        "    print(\"None of then is equal\")\r\n",
        "print(tst)"
      ],
      "execution_count": null,
      "outputs": []
    },
    {
      "cell_type": "code",
      "metadata": {
        "id": "l4QoDdDlwKIS",
        "colab": {
          "base_uri": "https://localhost:8080/"
        },
        "outputId": "d4342de0-3ed8-4c44-a25f-33597724e477"
      },
      "source": [
        "a = 'b'\r\n",
        "if True and False:\r\n",
        "  a = \"a\"\r\n",
        "print(a*2)\r\n"
      ],
      "execution_count": null,
      "outputs": [
        {
          "output_type": "stream",
          "text": [
            "bb\n"
          ],
          "name": "stdout"
        }
      ]
    },
    {
      "cell_type": "code",
      "metadata": {
        "id": "g2V-kUKJy0re"
      },
      "source": [
        ""
      ],
      "execution_count": null,
      "outputs": []
    }
  ]
}